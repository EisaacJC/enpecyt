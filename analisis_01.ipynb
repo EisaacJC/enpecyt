{
 "metadata": {
  "language_info": {
   "codemirror_mode": {
    "name": "ipython",
    "version": 3
   },
   "file_extension": ".py",
   "mimetype": "text/x-python",
   "name": "python",
   "nbconvert_exporter": "python",
   "pygments_lexer": "ipython3",
   "version": "3.8.1-final"
  },
  "orig_nbformat": 2,
  "kernelspec": {
   "name": "python_defaultSpec_1600375074561",
   "display_name": "Python 3.8.1 32-bit"
  }
 },
 "nbformat": 4,
 "nbformat_minor": 2,
 "cells": [
  {
   "cell_type": "code",
   "execution_count": 11,
   "metadata": {},
   "outputs": [],
   "source": [
    "import pandas as pd\n",
    "import numpy as np"
   ]
  },
  {
   "cell_type": "code",
   "execution_count": 3,
   "metadata": {},
   "outputs": [],
   "source": [
    "#Pandas permite cargar nuestras bases de datos de forma muy sencilla\n",
    "datos = pd.read_csv(\"./datos/conjunto_de_datos/tr_cbasico1.csv\")"
   ]
  },
  {
   "cell_type": "code",
   "execution_count": null,
   "metadata": {},
   "outputs": [],
   "source": [
    "#Pandas utiliza una estructura de datos llamada un DataFrame. Es como una tabla dinámica que nos permite hacer consultas de forma muy rápida"
   ]
  },
  {
   "cell_type": "code",
   "execution_count": 6,
   "metadata": {},
   "outputs": [
    {
     "output_type": "execute_result",
     "data": {
      "text/plain": "     CD_A   PER  ENT    CON  V_SEL  N_HOG  N_REN  S3P1  S3P1_2  S3P2  ...  \\\n0      ww  1117    1  40018      3      1      1   3.0     3.0   NaN  ...   \n1      14  1117    1  40018      4      1      1   2.0     6.0   NaN  ...   \n2      14  1117    1  40018      2      1      1   2.0     6.0   NaN  ...   \n3      14  1117    1  40018      1      1      3   4.0     3.0   NaN  ...   \n4      14  1117    1  40018      5      1      2   3.0     3.0   NaN  ...   \n...   ...   ...  ...    ...    ...    ...    ...   ...     ...   ...  ...   \n2848   32  1117   32  40345      2      1      2   6.0     3.0  4334  ...   \n2849   32  1117   32  40390      2      1      2   7.0     5.0  5713  ...   \n2850   32  1117   32  40390      4      1      2   3.0     3.0   NaN  ...   \n2851   32  1117   32  40390      5      1      1   6.0     1.0  2511  ...   \n2852   32  1117   32  40390      3      1      1   4.0     3.0   NaN  ...   \n\n     S4P17_6  S4P17_7  S4P17_8  S4P17_9  S4P17_10  S4P17_11  S4P17_12  \\\n0          2        3        3        2         2         2         2   \n1          3        3        3        3         3         3         2   \n2          3        3        3        3         3         3         2   \n3          2        2        3        3         3         2         2   \n4          3        3        3        3         3         3         1   \n...      ...      ...      ...      ...       ...       ...       ...   \n2848       3        3        3        2         1         1         3   \n2849       1        1        1        2         3         1         1   \n2850       1        2        1        2         2         2         1   \n2851       3        2        3        3         3         2         2   \n2852       1        3        3        3         1         1         1   \n\n      S4P17_13  S4P17_14    FAC  \n0            1         2   5072  \n1            3         3   5072  \n2            3         3   7608  \n3            3         3  10144  \n4            3         3   5072  \n...        ...       ...    ...  \n2848         1         1   3888  \n2849         2         3   1602  \n2850         2         2   2403  \n2851         2         2   2403  \n2852         1         1   2403  \n\n[2853 rows x 236 columns]",
      "text/html": "<div>\n<style scoped>\n    .dataframe tbody tr th:only-of-type {\n        vertical-align: middle;\n    }\n\n    .dataframe tbody tr th {\n        vertical-align: top;\n    }\n\n    .dataframe thead th {\n        text-align: right;\n    }\n</style>\n<table border=\"1\" class=\"dataframe\">\n  <thead>\n    <tr style=\"text-align: right;\">\n      <th></th>\n      <th>CD_A</th>\n      <th>PER</th>\n      <th>ENT</th>\n      <th>CON</th>\n      <th>V_SEL</th>\n      <th>N_HOG</th>\n      <th>N_REN</th>\n      <th>S3P1</th>\n      <th>S3P1_2</th>\n      <th>S3P2</th>\n      <th>...</th>\n      <th>S4P17_6</th>\n      <th>S4P17_7</th>\n      <th>S4P17_8</th>\n      <th>S4P17_9</th>\n      <th>S4P17_10</th>\n      <th>S4P17_11</th>\n      <th>S4P17_12</th>\n      <th>S4P17_13</th>\n      <th>S4P17_14</th>\n      <th>FAC</th>\n    </tr>\n  </thead>\n  <tbody>\n    <tr>\n      <th>0</th>\n      <td>ww</td>\n      <td>1117</td>\n      <td>1</td>\n      <td>40018</td>\n      <td>3</td>\n      <td>1</td>\n      <td>1</td>\n      <td>3.0</td>\n      <td>3.0</td>\n      <td>NaN</td>\n      <td>...</td>\n      <td>2</td>\n      <td>3</td>\n      <td>3</td>\n      <td>2</td>\n      <td>2</td>\n      <td>2</td>\n      <td>2</td>\n      <td>1</td>\n      <td>2</td>\n      <td>5072</td>\n    </tr>\n    <tr>\n      <th>1</th>\n      <td>14</td>\n      <td>1117</td>\n      <td>1</td>\n      <td>40018</td>\n      <td>4</td>\n      <td>1</td>\n      <td>1</td>\n      <td>2.0</td>\n      <td>6.0</td>\n      <td>NaN</td>\n      <td>...</td>\n      <td>3</td>\n      <td>3</td>\n      <td>3</td>\n      <td>3</td>\n      <td>3</td>\n      <td>3</td>\n      <td>2</td>\n      <td>3</td>\n      <td>3</td>\n      <td>5072</td>\n    </tr>\n    <tr>\n      <th>2</th>\n      <td>14</td>\n      <td>1117</td>\n      <td>1</td>\n      <td>40018</td>\n      <td>2</td>\n      <td>1</td>\n      <td>1</td>\n      <td>2.0</td>\n      <td>6.0</td>\n      <td>NaN</td>\n      <td>...</td>\n      <td>3</td>\n      <td>3</td>\n      <td>3</td>\n      <td>3</td>\n      <td>3</td>\n      <td>3</td>\n      <td>2</td>\n      <td>3</td>\n      <td>3</td>\n      <td>7608</td>\n    </tr>\n    <tr>\n      <th>3</th>\n      <td>14</td>\n      <td>1117</td>\n      <td>1</td>\n      <td>40018</td>\n      <td>1</td>\n      <td>1</td>\n      <td>3</td>\n      <td>4.0</td>\n      <td>3.0</td>\n      <td>NaN</td>\n      <td>...</td>\n      <td>2</td>\n      <td>2</td>\n      <td>3</td>\n      <td>3</td>\n      <td>3</td>\n      <td>2</td>\n      <td>2</td>\n      <td>3</td>\n      <td>3</td>\n      <td>10144</td>\n    </tr>\n    <tr>\n      <th>4</th>\n      <td>14</td>\n      <td>1117</td>\n      <td>1</td>\n      <td>40018</td>\n      <td>5</td>\n      <td>1</td>\n      <td>2</td>\n      <td>3.0</td>\n      <td>3.0</td>\n      <td>NaN</td>\n      <td>...</td>\n      <td>3</td>\n      <td>3</td>\n      <td>3</td>\n      <td>3</td>\n      <td>3</td>\n      <td>3</td>\n      <td>1</td>\n      <td>3</td>\n      <td>3</td>\n      <td>5072</td>\n    </tr>\n    <tr>\n      <th>...</th>\n      <td>...</td>\n      <td>...</td>\n      <td>...</td>\n      <td>...</td>\n      <td>...</td>\n      <td>...</td>\n      <td>...</td>\n      <td>...</td>\n      <td>...</td>\n      <td>...</td>\n      <td>...</td>\n      <td>...</td>\n      <td>...</td>\n      <td>...</td>\n      <td>...</td>\n      <td>...</td>\n      <td>...</td>\n      <td>...</td>\n      <td>...</td>\n      <td>...</td>\n      <td>...</td>\n    </tr>\n    <tr>\n      <th>2848</th>\n      <td>32</td>\n      <td>1117</td>\n      <td>32</td>\n      <td>40345</td>\n      <td>2</td>\n      <td>1</td>\n      <td>2</td>\n      <td>6.0</td>\n      <td>3.0</td>\n      <td>4334</td>\n      <td>...</td>\n      <td>3</td>\n      <td>3</td>\n      <td>3</td>\n      <td>2</td>\n      <td>1</td>\n      <td>1</td>\n      <td>3</td>\n      <td>1</td>\n      <td>1</td>\n      <td>3888</td>\n    </tr>\n    <tr>\n      <th>2849</th>\n      <td>32</td>\n      <td>1117</td>\n      <td>32</td>\n      <td>40390</td>\n      <td>2</td>\n      <td>1</td>\n      <td>2</td>\n      <td>7.0</td>\n      <td>5.0</td>\n      <td>5713</td>\n      <td>...</td>\n      <td>1</td>\n      <td>1</td>\n      <td>1</td>\n      <td>2</td>\n      <td>3</td>\n      <td>1</td>\n      <td>1</td>\n      <td>2</td>\n      <td>3</td>\n      <td>1602</td>\n    </tr>\n    <tr>\n      <th>2850</th>\n      <td>32</td>\n      <td>1117</td>\n      <td>32</td>\n      <td>40390</td>\n      <td>4</td>\n      <td>1</td>\n      <td>2</td>\n      <td>3.0</td>\n      <td>3.0</td>\n      <td>NaN</td>\n      <td>...</td>\n      <td>1</td>\n      <td>2</td>\n      <td>1</td>\n      <td>2</td>\n      <td>2</td>\n      <td>2</td>\n      <td>1</td>\n      <td>2</td>\n      <td>2</td>\n      <td>2403</td>\n    </tr>\n    <tr>\n      <th>2851</th>\n      <td>32</td>\n      <td>1117</td>\n      <td>32</td>\n      <td>40390</td>\n      <td>5</td>\n      <td>1</td>\n      <td>1</td>\n      <td>6.0</td>\n      <td>1.0</td>\n      <td>2511</td>\n      <td>...</td>\n      <td>3</td>\n      <td>2</td>\n      <td>3</td>\n      <td>3</td>\n      <td>3</td>\n      <td>2</td>\n      <td>2</td>\n      <td>2</td>\n      <td>2</td>\n      <td>2403</td>\n    </tr>\n    <tr>\n      <th>2852</th>\n      <td>32</td>\n      <td>1117</td>\n      <td>32</td>\n      <td>40390</td>\n      <td>3</td>\n      <td>1</td>\n      <td>1</td>\n      <td>4.0</td>\n      <td>3.0</td>\n      <td>NaN</td>\n      <td>...</td>\n      <td>1</td>\n      <td>3</td>\n      <td>3</td>\n      <td>3</td>\n      <td>1</td>\n      <td>1</td>\n      <td>1</td>\n      <td>1</td>\n      <td>1</td>\n      <td>2403</td>\n    </tr>\n  </tbody>\n</table>\n<p>2853 rows × 236 columns</p>\n</div>"
     },
     "metadata": {},
     "execution_count": 6
    }
   ],
   "source": [
    "datos"
   ]
  },
  {
   "cell_type": "code",
   "execution_count": null,
   "metadata": {},
   "outputs": [],
   "source": [
    "#Pandas permite usar la notación usual de python para obtener \"slides\" de estructuras de datos"
   ]
  },
  {
   "cell_type": "code",
   "execution_count": 7,
   "metadata": {},
   "outputs": [
    {
     "output_type": "execute_result",
     "data": {
      "text/plain": "  CD_A   PER  ENT    CON  V_SEL  N_HOG  N_REN  S3P1  S3P1_2 S3P2  ... S4P17_6  \\\n0   ww  1117    1  40018      3      1      1   3.0     3.0  NaN  ...       2   \n1   14  1117    1  40018      4      1      1   2.0     6.0  NaN  ...       3   \n2   14  1117    1  40018      2      1      1   2.0     6.0  NaN  ...       3   \n\n   S4P17_7  S4P17_8  S4P17_9  S4P17_10  S4P17_11  S4P17_12  S4P17_13  \\\n0        3        3        2         2         2         2         1   \n1        3        3        3         3         3         2         3   \n2        3        3        3         3         3         2         3   \n\n   S4P17_14   FAC  \n0         2  5072  \n1         3  5072  \n2         3  7608  \n\n[3 rows x 236 columns]",
      "text/html": "<div>\n<style scoped>\n    .dataframe tbody tr th:only-of-type {\n        vertical-align: middle;\n    }\n\n    .dataframe tbody tr th {\n        vertical-align: top;\n    }\n\n    .dataframe thead th {\n        text-align: right;\n    }\n</style>\n<table border=\"1\" class=\"dataframe\">\n  <thead>\n    <tr style=\"text-align: right;\">\n      <th></th>\n      <th>CD_A</th>\n      <th>PER</th>\n      <th>ENT</th>\n      <th>CON</th>\n      <th>V_SEL</th>\n      <th>N_HOG</th>\n      <th>N_REN</th>\n      <th>S3P1</th>\n      <th>S3P1_2</th>\n      <th>S3P2</th>\n      <th>...</th>\n      <th>S4P17_6</th>\n      <th>S4P17_7</th>\n      <th>S4P17_8</th>\n      <th>S4P17_9</th>\n      <th>S4P17_10</th>\n      <th>S4P17_11</th>\n      <th>S4P17_12</th>\n      <th>S4P17_13</th>\n      <th>S4P17_14</th>\n      <th>FAC</th>\n    </tr>\n  </thead>\n  <tbody>\n    <tr>\n      <th>0</th>\n      <td>ww</td>\n      <td>1117</td>\n      <td>1</td>\n      <td>40018</td>\n      <td>3</td>\n      <td>1</td>\n      <td>1</td>\n      <td>3.0</td>\n      <td>3.0</td>\n      <td>NaN</td>\n      <td>...</td>\n      <td>2</td>\n      <td>3</td>\n      <td>3</td>\n      <td>2</td>\n      <td>2</td>\n      <td>2</td>\n      <td>2</td>\n      <td>1</td>\n      <td>2</td>\n      <td>5072</td>\n    </tr>\n    <tr>\n      <th>1</th>\n      <td>14</td>\n      <td>1117</td>\n      <td>1</td>\n      <td>40018</td>\n      <td>4</td>\n      <td>1</td>\n      <td>1</td>\n      <td>2.0</td>\n      <td>6.0</td>\n      <td>NaN</td>\n      <td>...</td>\n      <td>3</td>\n      <td>3</td>\n      <td>3</td>\n      <td>3</td>\n      <td>3</td>\n      <td>3</td>\n      <td>2</td>\n      <td>3</td>\n      <td>3</td>\n      <td>5072</td>\n    </tr>\n    <tr>\n      <th>2</th>\n      <td>14</td>\n      <td>1117</td>\n      <td>1</td>\n      <td>40018</td>\n      <td>2</td>\n      <td>1</td>\n      <td>1</td>\n      <td>2.0</td>\n      <td>6.0</td>\n      <td>NaN</td>\n      <td>...</td>\n      <td>3</td>\n      <td>3</td>\n      <td>3</td>\n      <td>3</td>\n      <td>3</td>\n      <td>3</td>\n      <td>2</td>\n      <td>3</td>\n      <td>3</td>\n      <td>7608</td>\n    </tr>\n  </tbody>\n</table>\n<p>3 rows × 236 columns</p>\n</div>"
     },
     "metadata": {},
     "execution_count": 7
    }
   ],
   "source": [
    "datos[:3]"
   ]
  },
  {
   "cell_type": "code",
   "execution_count": 8,
   "metadata": {},
   "outputs": [],
   "source": [
    "#Los DataFrames están identificados por un índice y por columnas"
   ]
  },
  {
   "cell_type": "code",
   "execution_count": 9,
   "metadata": {},
   "outputs": [
    {
     "output_type": "execute_result",
     "data": {
      "text/plain": "RangeIndex(start=0, stop=2853, step=1)"
     },
     "metadata": {},
     "execution_count": 9
    }
   ],
   "source": [
    "datos.index"
   ]
  },
  {
   "cell_type": "code",
   "execution_count": 10,
   "metadata": {},
   "outputs": [
    {
     "output_type": "execute_result",
     "data": {
      "text/plain": "Index(['CD_A', 'PER', 'ENT', 'CON', 'V_SEL', 'N_HOG', 'N_REN', 'S3P1',\n       'S3P1_2', 'S3P2',\n       ...\n       'S4P17_6', 'S4P17_7', 'S4P17_8', 'S4P17_9', 'S4P17_10', 'S4P17_11',\n       'S4P17_12', 'S4P17_13', 'S4P17_14', 'FAC'],\n      dtype='object', length=236)"
     },
     "metadata": {},
     "execution_count": 10
    }
   ],
   "source": [
    "datos.columns"
   ]
  },
  {
   "cell_type": "code",
   "execution_count": null,
   "metadata": {},
   "outputs": [],
   "source": [
    "#Para ver todas las columnas a veces es necesario convertir la lista en un array de numpy"
   ]
  },
  {
   "cell_type": "code",
   "execution_count": 49,
   "metadata": {},
   "outputs": [
    {
     "output_type": "execute_result",
     "data": {
      "text/plain": "array(['CD_A', 'PER', 'ENT', 'CON', 'V_SEL', 'N_HOG', 'N_REN', 'S3P1',\n       'S3P1_2', 'S3P2', 'S3P2_ES', 'S3P3', 'S3P4_1', 'S3P4_2', 'S3P4_3',\n       'S3P4_4', 'S3P4_5', 'S3P4_6', 'S3P4_7', 'S3P5', 'S3P5_ES', 'S3P6',\n       'S3P7', 'S3P7_1_1', 'S3P7_1_2', 'S3P7_1_3', 'S3P7_1_4', 'S3P7_1_5',\n       'S3P7_2_1', 'S3P7_2_2', 'S3P7_2_3', 'S3P7_2_4', 'S3P7_2_5', 'S3P8',\n       'S3P9', 'S3P10', 'S3P11_ES', 'S3P12_C', 'S3P12_ES', 'S3P13_ES',\n       'S3P14_C', 'S3P14_ES', 'S3P15', 'S4P1_1', 'S4P1_2', 'S4P1_3',\n       'S4P1_4', 'S4P1_5', 'S4P1_6', 'S4P1_7', 'S4P1_8', 'S4P1_1_1A',\n       'S4P1_1_2A', 'S4P1_1_3A', 'S4P1_1_4A', 'S4P1_1_5A', 'S4P1_1_6A',\n       'S4P1_1_7A', 'S4P1_1_8A', 'S4P1_1_ESA', 'S4P1_1_1B', 'S4P1_1_2B',\n       'S4P1_1_3B', 'S4P1_1_4B', 'S4P1_1_5B', 'S4P1_1_6B', 'S4P1_1_7B',\n       'S4P1_1_8B', 'S4P1_1_ESB', 'S4P1_1_1C', 'S4P1_1_2C', 'S4P1_1_3C',\n       'S4P1_1_4C', 'S4P1_1_5C', 'S4P1_1_6C', 'S4P1_1_7C', 'S4P1_1_8C',\n       'S4P1_1_ESC', 'S4P1_2_1', 'S4P1_2_2', 'S4P1_2_3', 'S4P1_2_4',\n       'S4P1_2_5', 'S4P1_2_6', 'S4P1_2_7', 'S4P2_1', 'S4P2_2', 'S4P2_3',\n       'S4P2_4', 'S4P2_5', 'S4P2_6', 'S4P2_7', 'S4P2_8', 'S4P3_1',\n       'S4P3_2', 'S4P3_3', 'S4P3_4', 'S4P3_5', 'S4P3_6', 'S4P3_7',\n       'S4P3_8', 'S4P3_9', 'S4P4', 'S4P4_1', 'S4P4_2', 'S4P4_3', 'S4P4_4',\n       'S4P5', 'S4P5_1', 'S4P5_2', 'S4P5_3', 'S4P5_4', 'S4P6', 'S4P6_1',\n       'S4P6_2', 'S4P6_3', 'S4P6_4', 'S4P6_5', 'S4P7', 'S4P7_1', 'S4P7_2',\n       'S4P7_3', 'S4P7_4', 'S4P7_5', 'S4P8', 'S4P8_1_1', 'S4P8_1_2',\n       'S4P8_1_ES', 'S4P9', 'S4P10', 'S4P10_1', 'S4P11_1', 'S4P11_2',\n       'S4P11_3', 'S4P11_4', 'S4P11_5', 'S4P11_6', 'S4P11_7', 'S4P11_8',\n       'S4P11_9', 'S4P11_10', 'S4P11_11', 'S4P11_12', 'S4P11_13',\n       'S4P11_14', 'S4P11_15', 'S4P11_16', 'S4P11_17', 'S4P11_ES',\n       'S4P12_1', 'S4P12_2', 'S4P12_3', 'S4P12_4', 'S4P12_5', 'S4P12_6',\n       'S4P12_7', 'S4P12_8', 'S4P12_9', 'S4P12_10', 'S4P12_1_1',\n       'S4P12_1_2', 'S4P12_1_3', 'S4P12_1_4', 'S4P12_1_5', 'S4P12_1_6',\n       'S4P12_1_7', 'S4P12_1_8', 'S4P12_1_9', 'S4P12_1_10', 'S4P12_1_ES',\n       'S4P12_2_1', 'S4P12_2_2', 'S4P12_2_3', 'S4P12_2_4', 'S4P12_2_5',\n       'S4P12_2_6', 'S4P12_2_7', 'S4P12_2_8', 'S4P12_2_ES', 'S4P13_1',\n       'S4P13_2', 'S4P13_3', 'S4P14_1', 'S4P14_2', 'S4P14_3', 'S4P14_4',\n       'S4P14_5', 'S4P14_6', 'S4P14_7', 'S4P14_8', 'S4P14_9', 'S4P14_10',\n       'S4P14_11', 'S4P14_12', 'S4P14_13', 'S4P14_14', 'S4P14_15',\n       'S4P14_16', 'S4P14_17', 'S4P15_1', 'S4P15_2', 'S4P15_3', 'S4P15_4',\n       'S4P15_5', 'S4P15_6', 'S4P15_7', 'S4P15_8', 'S4P15_9', 'S4P15_10',\n       'S4P15_11', 'S4P15_12', 'S4P15_13', 'S4P15_14', 'S4P15_15',\n       'S4P16_1', 'S4P16_2', 'S4P16_3', 'S4P16_4', 'S4P16_5', 'S4P16_6',\n       'S4P16_7', 'S4P17_1', 'S4P17_2', 'S4P17_3', 'S4P17_4', 'S4P17_5',\n       'S4P17_6', 'S4P17_7', 'S4P17_8', 'S4P17_9', 'S4P17_10', 'S4P17_11',\n       'S4P17_12', 'S4P17_13', 'S4P17_14', 'FAC'], dtype=object)"
     },
     "metadata": {},
     "execution_count": 49
    }
   ],
   "source": [
    "np.array(datos.columns)"
   ]
  },
  {
   "cell_type": "code",
   "execution_count": 55,
   "metadata": {},
   "outputs": [],
   "source": [
    "#Además Pandas tiene sus propios métodos para poder consultar filas/columnas en particular"
   ]
  },
  {
   "cell_type": "code",
   "execution_count": null,
   "metadata": {},
   "outputs": [],
   "source": [
    "#Una fila en específico"
   ]
  },
  {
   "cell_type": "code",
   "execution_count": 56,
   "metadata": {},
   "outputs": [
    {
     "output_type": "execute_result",
     "data": {
      "text/plain": "CD_A           14\nPER          1117\nENT             1\nCON         40018\nV_SEL           4\n            ...  \nS4P17_11        3\nS4P17_12        2\nS4P17_13        3\nS4P17_14        3\nFAC          5072\nName: 1, Length: 236, dtype: object"
     },
     "metadata": {},
     "execution_count": 56
    }
   ],
   "source": [
    "datos.loc[1]"
   ]
  },
  {
   "cell_type": "code",
   "execution_count": 57,
   "metadata": {},
   "outputs": [],
   "source": [
    "#Varias filas en específico"
   ]
  },
  {
   "cell_type": "code",
   "execution_count": 60,
   "metadata": {},
   "outputs": [
    {
     "output_type": "execute_result",
     "data": {
      "text/plain": "  CD_A   PER  ENT    CON  V_SEL  N_HOG  N_REN  S3P1  S3P1_2 S3P2  ... S4P17_6  \\\n1   14  1117    1  40018      4      1      1   2.0     6.0  NaN  ...       3   \n2   14  1117    1  40018      2      1      1   2.0     6.0  NaN  ...       3   \n3   14  1117    1  40018      1      1      3   4.0     3.0  NaN  ...       2   \n\n   S4P17_7  S4P17_8  S4P17_9  S4P17_10  S4P17_11  S4P17_12  S4P17_13  \\\n1        3        3        3         3         3         2         3   \n2        3        3        3         3         3         2         3   \n3        2        3        3         3         2         2         3   \n\n   S4P17_14    FAC  \n1         3   5072  \n2         3   7608  \n3         3  10144  \n\n[3 rows x 236 columns]",
      "text/html": "<div>\n<style scoped>\n    .dataframe tbody tr th:only-of-type {\n        vertical-align: middle;\n    }\n\n    .dataframe tbody tr th {\n        vertical-align: top;\n    }\n\n    .dataframe thead th {\n        text-align: right;\n    }\n</style>\n<table border=\"1\" class=\"dataframe\">\n  <thead>\n    <tr style=\"text-align: right;\">\n      <th></th>\n      <th>CD_A</th>\n      <th>PER</th>\n      <th>ENT</th>\n      <th>CON</th>\n      <th>V_SEL</th>\n      <th>N_HOG</th>\n      <th>N_REN</th>\n      <th>S3P1</th>\n      <th>S3P1_2</th>\n      <th>S3P2</th>\n      <th>...</th>\n      <th>S4P17_6</th>\n      <th>S4P17_7</th>\n      <th>S4P17_8</th>\n      <th>S4P17_9</th>\n      <th>S4P17_10</th>\n      <th>S4P17_11</th>\n      <th>S4P17_12</th>\n      <th>S4P17_13</th>\n      <th>S4P17_14</th>\n      <th>FAC</th>\n    </tr>\n  </thead>\n  <tbody>\n    <tr>\n      <th>1</th>\n      <td>14</td>\n      <td>1117</td>\n      <td>1</td>\n      <td>40018</td>\n      <td>4</td>\n      <td>1</td>\n      <td>1</td>\n      <td>2.0</td>\n      <td>6.0</td>\n      <td>NaN</td>\n      <td>...</td>\n      <td>3</td>\n      <td>3</td>\n      <td>3</td>\n      <td>3</td>\n      <td>3</td>\n      <td>3</td>\n      <td>2</td>\n      <td>3</td>\n      <td>3</td>\n      <td>5072</td>\n    </tr>\n    <tr>\n      <th>2</th>\n      <td>14</td>\n      <td>1117</td>\n      <td>1</td>\n      <td>40018</td>\n      <td>2</td>\n      <td>1</td>\n      <td>1</td>\n      <td>2.0</td>\n      <td>6.0</td>\n      <td>NaN</td>\n      <td>...</td>\n      <td>3</td>\n      <td>3</td>\n      <td>3</td>\n      <td>3</td>\n      <td>3</td>\n      <td>3</td>\n      <td>2</td>\n      <td>3</td>\n      <td>3</td>\n      <td>7608</td>\n    </tr>\n    <tr>\n      <th>3</th>\n      <td>14</td>\n      <td>1117</td>\n      <td>1</td>\n      <td>40018</td>\n      <td>1</td>\n      <td>1</td>\n      <td>3</td>\n      <td>4.0</td>\n      <td>3.0</td>\n      <td>NaN</td>\n      <td>...</td>\n      <td>2</td>\n      <td>2</td>\n      <td>3</td>\n      <td>3</td>\n      <td>3</td>\n      <td>2</td>\n      <td>2</td>\n      <td>3</td>\n      <td>3</td>\n      <td>10144</td>\n    </tr>\n  </tbody>\n</table>\n<p>3 rows × 236 columns</p>\n</div>"
     },
     "metadata": {},
     "execution_count": 60
    }
   ],
   "source": [
    "datos.loc[1:3]"
   ]
  },
  {
   "cell_type": "code",
   "execution_count": 62,
   "metadata": {},
   "outputs": [
    {
     "output_type": "execute_result",
     "data": {
      "text/plain": "  CD_A   PER  ENT    CON  V_SEL  N_HOG  N_REN  S3P1  S3P1_2  S3P2  ...  \\\n6   14  1117    1  40034      4      1      1   2.0     2.0   NaN  ...   \n8   14  1117    1  40034      5      1      3   7.0     5.0  5512  ...   \n2   14  1117    1  40018      2      1      1   2.0     6.0   NaN  ...   \n1   14  1117    1  40018      4      1      1   2.0     6.0   NaN  ...   \n\n  S4P17_6  S4P17_7  S4P17_8  S4P17_9  S4P17_10  S4P17_11  S4P17_12  S4P17_13  \\\n6       2        2        2        2         3         2         2         3   \n8       1        3        2        2         2         1         2         1   \n2       3        3        3        3         3         3         2         3   \n1       3        3        3        3         3         3         2         3   \n\n   S4P17_14   FAC  \n6         3  9584  \n8         1  9584  \n2         3  7608  \n1         3  5072  \n\n[4 rows x 236 columns]",
      "text/html": "<div>\n<style scoped>\n    .dataframe tbody tr th:only-of-type {\n        vertical-align: middle;\n    }\n\n    .dataframe tbody tr th {\n        vertical-align: top;\n    }\n\n    .dataframe thead th {\n        text-align: right;\n    }\n</style>\n<table border=\"1\" class=\"dataframe\">\n  <thead>\n    <tr style=\"text-align: right;\">\n      <th></th>\n      <th>CD_A</th>\n      <th>PER</th>\n      <th>ENT</th>\n      <th>CON</th>\n      <th>V_SEL</th>\n      <th>N_HOG</th>\n      <th>N_REN</th>\n      <th>S3P1</th>\n      <th>S3P1_2</th>\n      <th>S3P2</th>\n      <th>...</th>\n      <th>S4P17_6</th>\n      <th>S4P17_7</th>\n      <th>S4P17_8</th>\n      <th>S4P17_9</th>\n      <th>S4P17_10</th>\n      <th>S4P17_11</th>\n      <th>S4P17_12</th>\n      <th>S4P17_13</th>\n      <th>S4P17_14</th>\n      <th>FAC</th>\n    </tr>\n  </thead>\n  <tbody>\n    <tr>\n      <th>6</th>\n      <td>14</td>\n      <td>1117</td>\n      <td>1</td>\n      <td>40034</td>\n      <td>4</td>\n      <td>1</td>\n      <td>1</td>\n      <td>2.0</td>\n      <td>2.0</td>\n      <td>NaN</td>\n      <td>...</td>\n      <td>2</td>\n      <td>2</td>\n      <td>2</td>\n      <td>2</td>\n      <td>3</td>\n      <td>2</td>\n      <td>2</td>\n      <td>3</td>\n      <td>3</td>\n      <td>9584</td>\n    </tr>\n    <tr>\n      <th>8</th>\n      <td>14</td>\n      <td>1117</td>\n      <td>1</td>\n      <td>40034</td>\n      <td>5</td>\n      <td>1</td>\n      <td>3</td>\n      <td>7.0</td>\n      <td>5.0</td>\n      <td>5512</td>\n      <td>...</td>\n      <td>1</td>\n      <td>3</td>\n      <td>2</td>\n      <td>2</td>\n      <td>2</td>\n      <td>1</td>\n      <td>2</td>\n      <td>1</td>\n      <td>1</td>\n      <td>9584</td>\n    </tr>\n    <tr>\n      <th>2</th>\n      <td>14</td>\n      <td>1117</td>\n      <td>1</td>\n      <td>40018</td>\n      <td>2</td>\n      <td>1</td>\n      <td>1</td>\n      <td>2.0</td>\n      <td>6.0</td>\n      <td>NaN</td>\n      <td>...</td>\n      <td>3</td>\n      <td>3</td>\n      <td>3</td>\n      <td>3</td>\n      <td>3</td>\n      <td>3</td>\n      <td>2</td>\n      <td>3</td>\n      <td>3</td>\n      <td>7608</td>\n    </tr>\n    <tr>\n      <th>1</th>\n      <td>14</td>\n      <td>1117</td>\n      <td>1</td>\n      <td>40018</td>\n      <td>4</td>\n      <td>1</td>\n      <td>1</td>\n      <td>2.0</td>\n      <td>6.0</td>\n      <td>NaN</td>\n      <td>...</td>\n      <td>3</td>\n      <td>3</td>\n      <td>3</td>\n      <td>3</td>\n      <td>3</td>\n      <td>3</td>\n      <td>2</td>\n      <td>3</td>\n      <td>3</td>\n      <td>5072</td>\n    </tr>\n  </tbody>\n</table>\n<p>4 rows × 236 columns</p>\n</div>"
     },
     "metadata": {},
     "execution_count": 62
    }
   ],
   "source": [
    "datos.loc[[6,8,2,1]]"
   ]
  },
  {
   "cell_type": "code",
   "execution_count": null,
   "metadata": {},
   "outputs": [],
   "source": [
    "#Una columna"
   ]
  },
  {
   "cell_type": "code",
   "execution_count": 63,
   "metadata": {},
   "outputs": [
    {
     "output_type": "execute_result",
     "data": {
      "text/plain": "0       3.0\n1       2.0\n2       2.0\n3       4.0\n4       3.0\n       ... \n2848    6.0\n2849    7.0\n2850    3.0\n2851    6.0\n2852    4.0\nName: S3P1, Length: 2853, dtype: float64"
     },
     "metadata": {},
     "execution_count": 63
    }
   ],
   "source": [
    "datos[\"S3P1\"]"
   ]
  },
  {
   "cell_type": "code",
   "execution_count": 64,
   "metadata": {},
   "outputs": [],
   "source": [
    "#Varias columnas"
   ]
  },
  {
   "cell_type": "code",
   "execution_count": 66,
   "metadata": {},
   "outputs": [
    {
     "output_type": "execute_result",
     "data": {
      "text/plain": "      S3P1  S3P2  V_SEL\n0      3.0   NaN      3\n1      2.0   NaN      4\n2      2.0   NaN      2\n3      4.0   NaN      1\n4      3.0   NaN      5\n...    ...   ...    ...\n2848   6.0  4334      2\n2849   7.0  5713      2\n2850   3.0   NaN      4\n2851   6.0  2511      5\n2852   4.0   NaN      3\n\n[2853 rows x 3 columns]",
      "text/html": "<div>\n<style scoped>\n    .dataframe tbody tr th:only-of-type {\n        vertical-align: middle;\n    }\n\n    .dataframe tbody tr th {\n        vertical-align: top;\n    }\n\n    .dataframe thead th {\n        text-align: right;\n    }\n</style>\n<table border=\"1\" class=\"dataframe\">\n  <thead>\n    <tr style=\"text-align: right;\">\n      <th></th>\n      <th>S3P1</th>\n      <th>S3P2</th>\n      <th>V_SEL</th>\n    </tr>\n  </thead>\n  <tbody>\n    <tr>\n      <th>0</th>\n      <td>3.0</td>\n      <td>NaN</td>\n      <td>3</td>\n    </tr>\n    <tr>\n      <th>1</th>\n      <td>2.0</td>\n      <td>NaN</td>\n      <td>4</td>\n    </tr>\n    <tr>\n      <th>2</th>\n      <td>2.0</td>\n      <td>NaN</td>\n      <td>2</td>\n    </tr>\n    <tr>\n      <th>3</th>\n      <td>4.0</td>\n      <td>NaN</td>\n      <td>1</td>\n    </tr>\n    <tr>\n      <th>4</th>\n      <td>3.0</td>\n      <td>NaN</td>\n      <td>5</td>\n    </tr>\n    <tr>\n      <th>...</th>\n      <td>...</td>\n      <td>...</td>\n      <td>...</td>\n    </tr>\n    <tr>\n      <th>2848</th>\n      <td>6.0</td>\n      <td>4334</td>\n      <td>2</td>\n    </tr>\n    <tr>\n      <th>2849</th>\n      <td>7.0</td>\n      <td>5713</td>\n      <td>2</td>\n    </tr>\n    <tr>\n      <th>2850</th>\n      <td>3.0</td>\n      <td>NaN</td>\n      <td>4</td>\n    </tr>\n    <tr>\n      <th>2851</th>\n      <td>6.0</td>\n      <td>2511</td>\n      <td>5</td>\n    </tr>\n    <tr>\n      <th>2852</th>\n      <td>4.0</td>\n      <td>NaN</td>\n      <td>3</td>\n    </tr>\n  </tbody>\n</table>\n<p>2853 rows × 3 columns</p>\n</div>"
     },
     "metadata": {},
     "execution_count": 66
    }
   ],
   "source": [
    "datos[[\"S3P1\",\"S3P2\",\"V_SEL\"]]"
   ]
  },
  {
   "cell_type": "code",
   "execution_count": 67,
   "metadata": {},
   "outputs": [],
   "source": [
    "#Una mezcla de filas y columnas"
   ]
  },
  {
   "cell_type": "code",
   "execution_count": 69,
   "metadata": {},
   "outputs": [
    {
     "output_type": "execute_result",
     "data": {
      "text/plain": "   S3P1  S3P2  V_SEL\n6   2.0   NaN      4\n8   7.0  5512      5\n2   2.0   NaN      2\n1   2.0   NaN      4",
      "text/html": "<div>\n<style scoped>\n    .dataframe tbody tr th:only-of-type {\n        vertical-align: middle;\n    }\n\n    .dataframe tbody tr th {\n        vertical-align: top;\n    }\n\n    .dataframe thead th {\n        text-align: right;\n    }\n</style>\n<table border=\"1\" class=\"dataframe\">\n  <thead>\n    <tr style=\"text-align: right;\">\n      <th></th>\n      <th>S3P1</th>\n      <th>S3P2</th>\n      <th>V_SEL</th>\n    </tr>\n  </thead>\n  <tbody>\n    <tr>\n      <th>6</th>\n      <td>2.0</td>\n      <td>NaN</td>\n      <td>4</td>\n    </tr>\n    <tr>\n      <th>8</th>\n      <td>7.0</td>\n      <td>5512</td>\n      <td>5</td>\n    </tr>\n    <tr>\n      <th>2</th>\n      <td>2.0</td>\n      <td>NaN</td>\n      <td>2</td>\n    </tr>\n    <tr>\n      <th>1</th>\n      <td>2.0</td>\n      <td>NaN</td>\n      <td>4</td>\n    </tr>\n  </tbody>\n</table>\n</div>"
     },
     "metadata": {},
     "execution_count": 69
    }
   ],
   "source": [
    "datos.loc[[6,8,2,1],[\"S3P1\",\"S3P2\",\"V_SEL\"]]"
   ]
  },
  {
   "cell_type": "code",
   "execution_count": 70,
   "metadata": {},
   "outputs": [],
   "source": [
    "#Podemos incluso pedirle un slice de todas las filas y de solo algunas columnas"
   ]
  },
  {
   "cell_type": "code",
   "execution_count": 71,
   "metadata": {},
   "outputs": [
    {
     "output_type": "execute_result",
     "data": {
      "text/plain": "      S3P1  S3P1_2  S3P2\n0      3.0     3.0   NaN\n1      2.0     6.0   NaN\n2      2.0     6.0   NaN\n3      4.0     3.0   NaN\n4      3.0     3.0   NaN\n...    ...     ...   ...\n2848   6.0     3.0  4334\n2849   7.0     5.0  5713\n2850   3.0     3.0   NaN\n2851   6.0     1.0  2511\n2852   4.0     3.0   NaN\n\n[2853 rows x 3 columns]",
      "text/html": "<div>\n<style scoped>\n    .dataframe tbody tr th:only-of-type {\n        vertical-align: middle;\n    }\n\n    .dataframe tbody tr th {\n        vertical-align: top;\n    }\n\n    .dataframe thead th {\n        text-align: right;\n    }\n</style>\n<table border=\"1\" class=\"dataframe\">\n  <thead>\n    <tr style=\"text-align: right;\">\n      <th></th>\n      <th>S3P1</th>\n      <th>S3P1_2</th>\n      <th>S3P2</th>\n    </tr>\n  </thead>\n  <tbody>\n    <tr>\n      <th>0</th>\n      <td>3.0</td>\n      <td>3.0</td>\n      <td>NaN</td>\n    </tr>\n    <tr>\n      <th>1</th>\n      <td>2.0</td>\n      <td>6.0</td>\n      <td>NaN</td>\n    </tr>\n    <tr>\n      <th>2</th>\n      <td>2.0</td>\n      <td>6.0</td>\n      <td>NaN</td>\n    </tr>\n    <tr>\n      <th>3</th>\n      <td>4.0</td>\n      <td>3.0</td>\n      <td>NaN</td>\n    </tr>\n    <tr>\n      <th>4</th>\n      <td>3.0</td>\n      <td>3.0</td>\n      <td>NaN</td>\n    </tr>\n    <tr>\n      <th>...</th>\n      <td>...</td>\n      <td>...</td>\n      <td>...</td>\n    </tr>\n    <tr>\n      <th>2848</th>\n      <td>6.0</td>\n      <td>3.0</td>\n      <td>4334</td>\n    </tr>\n    <tr>\n      <th>2849</th>\n      <td>7.0</td>\n      <td>5.0</td>\n      <td>5713</td>\n    </tr>\n    <tr>\n      <th>2850</th>\n      <td>3.0</td>\n      <td>3.0</td>\n      <td>NaN</td>\n    </tr>\n    <tr>\n      <th>2851</th>\n      <td>6.0</td>\n      <td>1.0</td>\n      <td>2511</td>\n    </tr>\n    <tr>\n      <th>2852</th>\n      <td>4.0</td>\n      <td>3.0</td>\n      <td>NaN</td>\n    </tr>\n  </tbody>\n</table>\n<p>2853 rows × 3 columns</p>\n</div>"
     },
     "metadata": {},
     "execution_count": 71
    }
   ],
   "source": [
    "datos.loc[:,\"S3P1\":\"S3P2\"]"
   ]
  },
  {
   "cell_type": "code",
   "execution_count": 14,
   "metadata": {},
   "outputs": [],
   "source": [
    "#Las columnas se relacionan con las preguntas en el cuestionario. Toda esta información se puede triangular en los cuestionarios y en los archivos descriptivos de las bases de datos."
   ]
  },
  {
   "cell_type": "code",
   "execution_count": 15,
   "metadata": {},
   "outputs": [],
   "source": [
    "#Concentrémonos en los factores de expansión. Un factor de expansión es el equivalente de una persona encuestada para obtener toda la población objetivo. Si sumamos todos los factores de expansión obtenemos la población objetivo"
   ]
  },
  {
   "cell_type": "code",
   "execution_count": 16,
   "metadata": {},
   "outputs": [],
   "source": [
    "#Podemos trabajar solamente con la columna que nos interes \"FAC\". Esta estructura de datos se llama una Serie, tiene un índice."
   ]
  },
  {
   "cell_type": "code",
   "execution_count": 29,
   "metadata": {},
   "outputs": [
    {
     "output_type": "execute_result",
     "data": {
      "text/plain": "0        5072\n1        5072\n2        7608\n3       10144\n4        5072\n        ...  \n2848     3888\n2849     1602\n2850     2403\n2851     2403\n2852     2403\nName: FAC, Length: 2853, dtype: int64"
     },
     "metadata": {},
     "execution_count": 29
    }
   ],
   "source": [
    "datos[\"FAC\"]"
   ]
  },
  {
   "cell_type": "code",
   "execution_count": null,
   "metadata": {},
   "outputs": [],
   "source": [
    "#Pandas nos permite obtener estadística básica sobre una serie"
   ]
  },
  {
   "cell_type": "code",
   "execution_count": 30,
   "metadata": {},
   "outputs": [
    {
     "output_type": "execute_result",
     "data": {
      "text/plain": "count      2853.000000\nmean      12989.090782\nstd       31027.402883\nmin         629.000000\n25%        3114.000000\n50%        5552.000000\n75%        9890.000000\nmax      368320.000000\nName: FAC, dtype: float64"
     },
     "metadata": {},
     "execution_count": 30
    }
   ],
   "source": [
    "datos[\"FAC\"].describe()"
   ]
  },
  {
   "cell_type": "code",
   "execution_count": 31,
   "metadata": {},
   "outputs": [],
   "source": [
    "#Aplicar operaciones como si la serie fuera un vector"
   ]
  },
  {
   "cell_type": "code",
   "execution_count": 33,
   "metadata": {},
   "outputs": [
    {
     "output_type": "execute_result",
     "data": {
      "text/plain": "0       -5072\n1       -5072\n2       -7608\n3      -10144\n4       -5072\n        ...  \n2848    -3888\n2849    -1602\n2850    -2403\n2851    -2403\n2852    -2403\nName: FAC, Length: 2853, dtype: int64"
     },
     "metadata": {},
     "execution_count": 33
    }
   ],
   "source": [
    "datos[\"FAC\"]*-1"
   ]
  },
  {
   "cell_type": "code",
   "execution_count": 18,
   "metadata": {},
   "outputs": [],
   "source": [
    "#Se puede observar que son solamente 2853 registros, es decir 2853 cuestionarios. Sin embargo la población objetivo es la población mayor de 18 años."
   ]
  },
  {
   "cell_type": "code",
   "execution_count": 19,
   "metadata": {},
   "outputs": [
    {
     "output_type": "execute_result",
     "data": {
      "text/plain": "37057876"
     },
     "metadata": {},
     "execution_count": 19
    }
   ],
   "source": [
    "datos[\"FAC\"].sum()"
   ]
  },
  {
   "cell_type": "code",
   "execution_count": 20,
   "metadata": {},
   "outputs": [],
   "source": [
    "#Pandas nos permite saber que valores tiene una columna"
   ]
  },
  {
   "cell_type": "code",
   "execution_count": 22,
   "metadata": {},
   "outputs": [
    {
     "output_type": "execute_result",
     "data": {
      "text/plain": "7.0     719\n3.0     691\n4.0     590\n2.0     459\n6.0     184\n9.0      83\n5.0      20\n10.0     14\n8.0      13\n1.0       1\nName: S3P1, dtype: int64"
     },
     "metadata": {},
     "execution_count": 22
    }
   ],
   "source": [
    "datos[\"S3P1\"].value_counts()"
   ]
  },
  {
   "cell_type": "code",
   "execution_count": 34,
   "metadata": {},
   "outputs": [],
   "source": [
    "#El valor 7 es el que tiene mayor número de respuestas, corresponde con licenciatura o ingeniería. Sin embargo no necesariamente es el que tiene más personas. Necesitamos sumar los factores de expansión con esa respuesta"
   ]
  },
  {
   "cell_type": "code",
   "execution_count": null,
   "metadata": {},
   "outputs": [],
   "source": [
    "#Pandas nos permite generar Series hechas de condiciones booleanas"
   ]
  },
  {
   "cell_type": "code",
   "execution_count": 26,
   "metadata": {},
   "outputs": [
    {
     "output_type": "execute_result",
     "data": {
      "text/plain": "0       False\n1       False\n2       False\n3       False\n4       False\n        ...  \n2848    False\n2849     True\n2850    False\n2851    False\n2852    False\nName: S3P1, Length: 2853, dtype: bool"
     },
     "metadata": {},
     "execution_count": 26
    }
   ],
   "source": [
    "datos[\"S3P1\"]==7"
   ]
  },
  {
   "cell_type": "code",
   "execution_count": 35,
   "metadata": {},
   "outputs": [],
   "source": [
    "#Y luego utilizar esas series para filtrar otras Series o DataFrames (Pandas se encarga de hacer match de acuerdo al índice)"
   ]
  },
  {
   "cell_type": "code",
   "execution_count": 36,
   "metadata": {},
   "outputs": [],
   "source": [
    "condicion = datos[\"S3P1\"]==7"
   ]
  },
  {
   "cell_type": "code",
   "execution_count": 37,
   "metadata": {},
   "outputs": [
    {
     "output_type": "execute_result",
     "data": {
      "text/plain": "     CD_A   PER  ENT    CON  V_SEL  N_HOG  N_REN  S3P1  S3P1_2  S3P2  ...  \\\n5      14  1117    1  40034      3      1      2   7.0     4.0  5335  ...   \n8      14  1117    1  40034      5      1      3   7.0     5.0  5512  ...   \n39     14  1117    1  40100      4      1      3   7.0     4.0  5335  ...   \n41     14  1117    1  40100      1      1      1   7.0     5.0  5335  ...   \n42     14  1117    1  40100      5      1      3   7.0     4.0  5121  ...   \n...   ...   ...  ...    ...    ...    ...    ...   ...     ...   ...  ...   \n2840   32  1117   32  40326      5      1      1   7.0     4.0  5122  ...   \n2845   32  1117   32  40345      3      1      5   7.0     1.0  5334  ...   \n2846   32  1117   32  40345      1      1      3   7.0     5.0  5441  ...   \n2847   32  1117   32  40345      5      1      1   7.0     5.0  5524  ...   \n2849   32  1117   32  40390      2      1      2   7.0     5.0  5713  ...   \n\n     S4P17_6  S4P17_7  S4P17_8  S4P17_9  S4P17_10  S4P17_11  S4P17_12  \\\n5          1        2        2        2         2         2         1   \n8          1        3        2        2         2         1         2   \n39         2        3        3        2         3         2         2   \n41         2        2        2        2         2         2         2   \n42         1        3        3        3         3         1         2   \n...      ...      ...      ...      ...       ...       ...       ...   \n2840       4        2        4        4         4         1         2   \n2845       2        2        1        2         2         1         2   \n2846       1        1        3        2         2         2         2   \n2847       1        3        3        2         2         1         2   \n2849       1        1        1        2         3         1         1   \n\n      S4P17_13  S4P17_14    FAC  \n5            2         2   4792  \n8            1         1   9584  \n39           2         2   7521  \n41           2         2   2507  \n42           2         3  10028  \n...        ...       ...    ...  \n2840         2         4   1274  \n2845         2         2   4860  \n2846         1         2   3888  \n2847         2         1   3888  \n2849         2         3   1602  \n\n[719 rows x 236 columns]",
      "text/html": "<div>\n<style scoped>\n    .dataframe tbody tr th:only-of-type {\n        vertical-align: middle;\n    }\n\n    .dataframe tbody tr th {\n        vertical-align: top;\n    }\n\n    .dataframe thead th {\n        text-align: right;\n    }\n</style>\n<table border=\"1\" class=\"dataframe\">\n  <thead>\n    <tr style=\"text-align: right;\">\n      <th></th>\n      <th>CD_A</th>\n      <th>PER</th>\n      <th>ENT</th>\n      <th>CON</th>\n      <th>V_SEL</th>\n      <th>N_HOG</th>\n      <th>N_REN</th>\n      <th>S3P1</th>\n      <th>S3P1_2</th>\n      <th>S3P2</th>\n      <th>...</th>\n      <th>S4P17_6</th>\n      <th>S4P17_7</th>\n      <th>S4P17_8</th>\n      <th>S4P17_9</th>\n      <th>S4P17_10</th>\n      <th>S4P17_11</th>\n      <th>S4P17_12</th>\n      <th>S4P17_13</th>\n      <th>S4P17_14</th>\n      <th>FAC</th>\n    </tr>\n  </thead>\n  <tbody>\n    <tr>\n      <th>5</th>\n      <td>14</td>\n      <td>1117</td>\n      <td>1</td>\n      <td>40034</td>\n      <td>3</td>\n      <td>1</td>\n      <td>2</td>\n      <td>7.0</td>\n      <td>4.0</td>\n      <td>5335</td>\n      <td>...</td>\n      <td>1</td>\n      <td>2</td>\n      <td>2</td>\n      <td>2</td>\n      <td>2</td>\n      <td>2</td>\n      <td>1</td>\n      <td>2</td>\n      <td>2</td>\n      <td>4792</td>\n    </tr>\n    <tr>\n      <th>8</th>\n      <td>14</td>\n      <td>1117</td>\n      <td>1</td>\n      <td>40034</td>\n      <td>5</td>\n      <td>1</td>\n      <td>3</td>\n      <td>7.0</td>\n      <td>5.0</td>\n      <td>5512</td>\n      <td>...</td>\n      <td>1</td>\n      <td>3</td>\n      <td>2</td>\n      <td>2</td>\n      <td>2</td>\n      <td>1</td>\n      <td>2</td>\n      <td>1</td>\n      <td>1</td>\n      <td>9584</td>\n    </tr>\n    <tr>\n      <th>39</th>\n      <td>14</td>\n      <td>1117</td>\n      <td>1</td>\n      <td>40100</td>\n      <td>4</td>\n      <td>1</td>\n      <td>3</td>\n      <td>7.0</td>\n      <td>4.0</td>\n      <td>5335</td>\n      <td>...</td>\n      <td>2</td>\n      <td>3</td>\n      <td>3</td>\n      <td>2</td>\n      <td>3</td>\n      <td>2</td>\n      <td>2</td>\n      <td>2</td>\n      <td>2</td>\n      <td>7521</td>\n    </tr>\n    <tr>\n      <th>41</th>\n      <td>14</td>\n      <td>1117</td>\n      <td>1</td>\n      <td>40100</td>\n      <td>1</td>\n      <td>1</td>\n      <td>1</td>\n      <td>7.0</td>\n      <td>5.0</td>\n      <td>5335</td>\n      <td>...</td>\n      <td>2</td>\n      <td>2</td>\n      <td>2</td>\n      <td>2</td>\n      <td>2</td>\n      <td>2</td>\n      <td>2</td>\n      <td>2</td>\n      <td>2</td>\n      <td>2507</td>\n    </tr>\n    <tr>\n      <th>42</th>\n      <td>14</td>\n      <td>1117</td>\n      <td>1</td>\n      <td>40100</td>\n      <td>5</td>\n      <td>1</td>\n      <td>3</td>\n      <td>7.0</td>\n      <td>4.0</td>\n      <td>5121</td>\n      <td>...</td>\n      <td>1</td>\n      <td>3</td>\n      <td>3</td>\n      <td>3</td>\n      <td>3</td>\n      <td>1</td>\n      <td>2</td>\n      <td>2</td>\n      <td>3</td>\n      <td>10028</td>\n    </tr>\n    <tr>\n      <th>...</th>\n      <td>...</td>\n      <td>...</td>\n      <td>...</td>\n      <td>...</td>\n      <td>...</td>\n      <td>...</td>\n      <td>...</td>\n      <td>...</td>\n      <td>...</td>\n      <td>...</td>\n      <td>...</td>\n      <td>...</td>\n      <td>...</td>\n      <td>...</td>\n      <td>...</td>\n      <td>...</td>\n      <td>...</td>\n      <td>...</td>\n      <td>...</td>\n      <td>...</td>\n      <td>...</td>\n    </tr>\n    <tr>\n      <th>2840</th>\n      <td>32</td>\n      <td>1117</td>\n      <td>32</td>\n      <td>40326</td>\n      <td>5</td>\n      <td>1</td>\n      <td>1</td>\n      <td>7.0</td>\n      <td>4.0</td>\n      <td>5122</td>\n      <td>...</td>\n      <td>4</td>\n      <td>2</td>\n      <td>4</td>\n      <td>4</td>\n      <td>4</td>\n      <td>1</td>\n      <td>2</td>\n      <td>2</td>\n      <td>4</td>\n      <td>1274</td>\n    </tr>\n    <tr>\n      <th>2845</th>\n      <td>32</td>\n      <td>1117</td>\n      <td>32</td>\n      <td>40345</td>\n      <td>3</td>\n      <td>1</td>\n      <td>5</td>\n      <td>7.0</td>\n      <td>1.0</td>\n      <td>5334</td>\n      <td>...</td>\n      <td>2</td>\n      <td>2</td>\n      <td>1</td>\n      <td>2</td>\n      <td>2</td>\n      <td>1</td>\n      <td>2</td>\n      <td>2</td>\n      <td>2</td>\n      <td>4860</td>\n    </tr>\n    <tr>\n      <th>2846</th>\n      <td>32</td>\n      <td>1117</td>\n      <td>32</td>\n      <td>40345</td>\n      <td>1</td>\n      <td>1</td>\n      <td>3</td>\n      <td>7.0</td>\n      <td>5.0</td>\n      <td>5441</td>\n      <td>...</td>\n      <td>1</td>\n      <td>1</td>\n      <td>3</td>\n      <td>2</td>\n      <td>2</td>\n      <td>2</td>\n      <td>2</td>\n      <td>1</td>\n      <td>2</td>\n      <td>3888</td>\n    </tr>\n    <tr>\n      <th>2847</th>\n      <td>32</td>\n      <td>1117</td>\n      <td>32</td>\n      <td>40345</td>\n      <td>5</td>\n      <td>1</td>\n      <td>1</td>\n      <td>7.0</td>\n      <td>5.0</td>\n      <td>5524</td>\n      <td>...</td>\n      <td>1</td>\n      <td>3</td>\n      <td>3</td>\n      <td>2</td>\n      <td>2</td>\n      <td>1</td>\n      <td>2</td>\n      <td>2</td>\n      <td>1</td>\n      <td>3888</td>\n    </tr>\n    <tr>\n      <th>2849</th>\n      <td>32</td>\n      <td>1117</td>\n      <td>32</td>\n      <td>40390</td>\n      <td>2</td>\n      <td>1</td>\n      <td>2</td>\n      <td>7.0</td>\n      <td>5.0</td>\n      <td>5713</td>\n      <td>...</td>\n      <td>1</td>\n      <td>1</td>\n      <td>1</td>\n      <td>2</td>\n      <td>3</td>\n      <td>1</td>\n      <td>1</td>\n      <td>2</td>\n      <td>3</td>\n      <td>1602</td>\n    </tr>\n  </tbody>\n</table>\n<p>719 rows × 236 columns</p>\n</div>"
     },
     "metadata": {},
     "execution_count": 37
    }
   ],
   "source": [
    "datos[condicion]"
   ]
  },
  {
   "cell_type": "code",
   "execution_count": 41,
   "metadata": {},
   "outputs": [],
   "source": [
    "temporal = datos[condicion]"
   ]
  },
  {
   "cell_type": "code",
   "execution_count": null,
   "metadata": {},
   "outputs": [],
   "source": [
    "#Luego podemos entonces seleccionar la columna que nos interesa y sumar"
   ]
  },
  {
   "cell_type": "code",
   "execution_count": 40,
   "metadata": {},
   "outputs": [
    {
     "output_type": "execute_result",
     "data": {
      "text/plain": "7586872"
     },
     "metadata": {},
     "execution_count": 40
    }
   ],
   "source": [
    "temporal[\"FAC\"].sum()"
   ]
  },
  {
   "cell_type": "code",
   "execution_count": 42,
   "metadata": {},
   "outputs": [],
   "source": [
    "#Si tuvieramos que hacer esto para un montón de respuestas sería muy repetitívo. Pandas permite hacer grupos de acuerdo al valor de una o varias columnas"
   ]
  },
  {
   "cell_type": "code",
   "execution_count": 43,
   "metadata": {},
   "outputs": [
    {
     "output_type": "execute_result",
     "data": {
      "text/plain": "<pandas.core.groupby.generic.DataFrameGroupBy object at 0x1394D0A0>"
     },
     "metadata": {},
     "execution_count": 43
    }
   ],
   "source": [
    "datos.groupby(\"S3P1\")"
   ]
  },
  {
   "cell_type": "code",
   "execution_count": 46,
   "metadata": {},
   "outputs": [],
   "source": [
    "grupos = datos.groupby(\"S3P1\")"
   ]
  },
  {
   "cell_type": "code",
   "execution_count": null,
   "metadata": {},
   "outputs": [],
   "source": [
    "#Entonces podemos hacer consultas sobre los grupos, por ejemplo cual es su tamaño"
   ]
  },
  {
   "cell_type": "code",
   "execution_count": 45,
   "metadata": {},
   "outputs": [
    {
     "output_type": "execute_result",
     "data": {
      "text/plain": "S3P1\n1.0       1\n2.0     459\n3.0     691\n4.0     590\n5.0      20\n6.0     184\n7.0     719\n8.0      13\n9.0      83\n10.0     14\ndtype: int64"
     },
     "metadata": {},
     "execution_count": 45
    }
   ],
   "source": [
    "grupos.size()"
   ]
  },
  {
   "cell_type": "code",
   "execution_count": 47,
   "metadata": {},
   "outputs": [],
   "source": [
    "#Cada grupo tiene estructura similar a un dataframe, podemos seleccionar una columna de cada uno y hacer operaciones sobre el"
   ]
  },
  {
   "cell_type": "code",
   "execution_count": 48,
   "metadata": {},
   "outputs": [
    {
     "output_type": "execute_result",
     "data": {
      "text/plain": "S3P1\n1.0      135752\n2.0     6842690\n3.0     8814607\n4.0     9171045\n5.0       91315\n6.0     2609883\n7.0     7586872\n8.0      102790\n9.0      557209\n10.0     130164\nName: FAC, dtype: int64"
     },
     "metadata": {},
     "execution_count": 48
    }
   ],
   "source": [
    "grupos[\"FAC\"].sum()"
   ]
  },
  {
   "cell_type": "code",
   "execution_count": 72,
   "metadata": {},
   "outputs": [],
   "source": [
    "#Incluso podríamos ejecutar funciones que regresen más de un valor para cada grupo"
   ]
  },
  {
   "cell_type": "code",
   "execution_count": 73,
   "metadata": {},
   "outputs": [
    {
     "output_type": "execute_result",
     "data": {
      "text/plain": "      count           mean           std       min       25%       50%  \\\nS3P1                                                                     \n1.0     1.0  135752.000000           NaN  135752.0  135752.0  135752.0   \n2.0   459.0   14907.821351  36466.610010     720.0    3217.0    5886.0   \n3.0   691.0   12756.305355  30065.923042     740.0    3092.5    5487.0   \n4.0   590.0   15544.144068  38156.974999     786.0    3693.0    6055.5   \n5.0    20.0    4565.750000   3249.858926     781.0    1397.0    4678.0   \n6.0   184.0   14184.146739  31105.534654     794.0    2881.5    5870.0   \n7.0   719.0   10551.977747  22774.539374     629.0    2974.0    5382.0   \n8.0    13.0    7906.923077  14492.791694    1312.0    2282.0    2824.0   \n9.0    83.0    6713.361446   9285.691481     839.0    2213.0    4088.0   \n10.0   14.0    9297.428571   8244.708799    1422.0    2771.5    4229.5   \n\n            75%       max  \nS3P1                       \n1.0   135752.00  135752.0  \n2.0    10394.50  287836.0  \n3.0    10306.00  368320.0  \n4.0    10177.00  368320.0  \n5.0     5849.50   11380.0  \n6.0    10391.75  212616.0  \n7.0     9304.00  357680.0  \n8.0     6542.00   55401.0  \n9.0     6712.50   52972.0  \n10.0   15532.50   23510.0  ",
      "text/html": "<div>\n<style scoped>\n    .dataframe tbody tr th:only-of-type {\n        vertical-align: middle;\n    }\n\n    .dataframe tbody tr th {\n        vertical-align: top;\n    }\n\n    .dataframe thead th {\n        text-align: right;\n    }\n</style>\n<table border=\"1\" class=\"dataframe\">\n  <thead>\n    <tr style=\"text-align: right;\">\n      <th></th>\n      <th>count</th>\n      <th>mean</th>\n      <th>std</th>\n      <th>min</th>\n      <th>25%</th>\n      <th>50%</th>\n      <th>75%</th>\n      <th>max</th>\n    </tr>\n    <tr>\n      <th>S3P1</th>\n      <th></th>\n      <th></th>\n      <th></th>\n      <th></th>\n      <th></th>\n      <th></th>\n      <th></th>\n      <th></th>\n    </tr>\n  </thead>\n  <tbody>\n    <tr>\n      <th>1.0</th>\n      <td>1.0</td>\n      <td>135752.000000</td>\n      <td>NaN</td>\n      <td>135752.0</td>\n      <td>135752.0</td>\n      <td>135752.0</td>\n      <td>135752.00</td>\n      <td>135752.0</td>\n    </tr>\n    <tr>\n      <th>2.0</th>\n      <td>459.0</td>\n      <td>14907.821351</td>\n      <td>36466.610010</td>\n      <td>720.0</td>\n      <td>3217.0</td>\n      <td>5886.0</td>\n      <td>10394.50</td>\n      <td>287836.0</td>\n    </tr>\n    <tr>\n      <th>3.0</th>\n      <td>691.0</td>\n      <td>12756.305355</td>\n      <td>30065.923042</td>\n      <td>740.0</td>\n      <td>3092.5</td>\n      <td>5487.0</td>\n      <td>10306.00</td>\n      <td>368320.0</td>\n    </tr>\n    <tr>\n      <th>4.0</th>\n      <td>590.0</td>\n      <td>15544.144068</td>\n      <td>38156.974999</td>\n      <td>786.0</td>\n      <td>3693.0</td>\n      <td>6055.5</td>\n      <td>10177.00</td>\n      <td>368320.0</td>\n    </tr>\n    <tr>\n      <th>5.0</th>\n      <td>20.0</td>\n      <td>4565.750000</td>\n      <td>3249.858926</td>\n      <td>781.0</td>\n      <td>1397.0</td>\n      <td>4678.0</td>\n      <td>5849.50</td>\n      <td>11380.0</td>\n    </tr>\n    <tr>\n      <th>6.0</th>\n      <td>184.0</td>\n      <td>14184.146739</td>\n      <td>31105.534654</td>\n      <td>794.0</td>\n      <td>2881.5</td>\n      <td>5870.0</td>\n      <td>10391.75</td>\n      <td>212616.0</td>\n    </tr>\n    <tr>\n      <th>7.0</th>\n      <td>719.0</td>\n      <td>10551.977747</td>\n      <td>22774.539374</td>\n      <td>629.0</td>\n      <td>2974.0</td>\n      <td>5382.0</td>\n      <td>9304.00</td>\n      <td>357680.0</td>\n    </tr>\n    <tr>\n      <th>8.0</th>\n      <td>13.0</td>\n      <td>7906.923077</td>\n      <td>14492.791694</td>\n      <td>1312.0</td>\n      <td>2282.0</td>\n      <td>2824.0</td>\n      <td>6542.00</td>\n      <td>55401.0</td>\n    </tr>\n    <tr>\n      <th>9.0</th>\n      <td>83.0</td>\n      <td>6713.361446</td>\n      <td>9285.691481</td>\n      <td>839.0</td>\n      <td>2213.0</td>\n      <td>4088.0</td>\n      <td>6712.50</td>\n      <td>52972.0</td>\n    </tr>\n    <tr>\n      <th>10.0</th>\n      <td>14.0</td>\n      <td>9297.428571</td>\n      <td>8244.708799</td>\n      <td>1422.0</td>\n      <td>2771.5</td>\n      <td>4229.5</td>\n      <td>15532.50</td>\n      <td>23510.0</td>\n    </tr>\n  </tbody>\n</table>\n</div>"
     },
     "metadata": {},
     "execution_count": 73
    }
   ],
   "source": [
    "grupos[\"FAC\"].describe()"
   ]
  },
  {
   "cell_type": "code",
   "execution_count": 74,
   "metadata": {},
   "outputs": [],
   "source": [
    "#Calculemos el porcentaje de personas en cada uno de los grupos. Necesitamos la suma de personas en cada grupo y la suma total de personas"
   ]
  },
  {
   "cell_type": "code",
   "execution_count": 76,
   "metadata": {},
   "outputs": [
    {
     "output_type": "execute_result",
     "data": {
      "text/plain": "S3P1\n1.0     0.003663\n2.0     0.184649\n3.0     0.237861\n4.0     0.247479\n5.0     0.002464\n6.0     0.070427\n7.0     0.204730\n8.0     0.002774\n9.0     0.015036\n10.0    0.003512\nName: FAC, dtype: float64"
     },
     "metadata": {},
     "execution_count": 76
    }
   ],
   "source": [
    "grupos[\"FAC\"].sum()/datos[\"FAC\"].sum()"
   ]
  },
  {
   "cell_type": "code",
   "execution_count": 77,
   "metadata": {},
   "outputs": [
    {
     "output_type": "execute_result",
     "data": {
      "text/plain": "S3P1\n1.0      0.366324\n2.0     18.464874\n3.0     23.786056\n4.0     24.747897\n5.0      0.246412\n6.0      7.042721\n7.0     20.473035\n8.0      0.277377\n9.0      1.503618\n10.0     0.351245\nName: FAC, dtype: float64"
     },
     "metadata": {},
     "execution_count": 77
    }
   ],
   "source": [
    "grupos[\"FAC\"].sum()/datos[\"FAC\"].sum()*100"
   ]
  },
  {
   "cell_type": "code",
   "execution_count": 78,
   "metadata": {},
   "outputs": [],
   "source": [
    "porcentajes = grupos[\"FAC\"].sum()/datos[\"FAC\"].sum()*100"
   ]
  },
  {
   "source": [
    "porcentajes.sum()"
   ],
   "cell_type": "code",
   "metadata": {},
   "execution_count": 81,
   "outputs": [
    {
     "output_type": "execute_result",
     "data": {
      "text/plain": "97.25955961426394"
     },
     "metadata": {},
     "execution_count": 81
    }
   ]
  },
  {
   "cell_type": "code",
   "execution_count": 85,
   "metadata": {},
   "outputs": [
    {
     "output_type": "execute_result",
     "data": {
      "text/plain": "79"
     },
     "metadata": {},
     "execution_count": 85
    }
   ],
   "source": [
    "datos[\"S3P1\"].isna().sum()"
   ]
  },
  {
   "cell_type": "code",
   "execution_count": 87,
   "metadata": {},
   "outputs": [
    {
     "output_type": "execute_result",
     "data": {
      "text/plain": "2.740440385736085"
     },
     "metadata": {},
     "execution_count": 87
    }
   ],
   "source": [
    "datos[datos[\"S3P1\"].isna()][\"FAC\"].sum()/datos[\"FAC\"].sum()*100"
   ]
  },
  {
   "cell_type": "code",
   "execution_count": 88,
   "metadata": {},
   "outputs": [],
   "source": [
    "#Podemos ordenarlos"
   ]
  },
  {
   "cell_type": "code",
   "execution_count": 89,
   "metadata": {},
   "outputs": [
    {
     "output_type": "execute_result",
     "data": {
      "text/plain": "S3P1\n5.0      0.246412\n8.0      0.277377\n10.0     0.351245\n1.0      0.366324\n9.0      1.503618\n6.0      7.042721\n2.0     18.464874\n7.0     20.473035\n3.0     23.786056\n4.0     24.747897\nName: FAC, dtype: float64"
     },
     "metadata": {},
     "execution_count": 89
    }
   ],
   "source": [
    "porcentajes.sort_values()"
   ]
  },
  {
   "cell_type": "code",
   "execution_count": 91,
   "metadata": {},
   "outputs": [
    {
     "output_type": "execute_result",
     "data": {
      "text/plain": "S3P1\n4.0     24.747897\n3.0     23.786056\n7.0     20.473035\n2.0     18.464874\n6.0      7.042721\n9.0      1.503618\n1.0      0.366324\n10.0     0.351245\n8.0      0.277377\n5.0      0.246412\nName: FAC, dtype: float64"
     },
     "metadata": {},
     "execution_count": 91
    }
   ],
   "source": [
    "porcentajes.sort_values(ascending=False)"
   ]
  },
  {
   "cell_type": "code",
   "execution_count": null,
   "metadata": {},
   "outputs": [],
   "source": []
  },
  {
   "cell_type": "code",
   "execution_count": null,
   "metadata": {},
   "outputs": [],
   "source": []
  }
 ]
}